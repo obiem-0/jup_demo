{
  "metadata": {
    "language_info": {
      "name": ""
    },
    "kernelspec": {
      "name": "python",
      "display_name": "Python (Pyodide)",
      "language": "python"
    }
  },
  "nbformat_minor": 4,
  "nbformat": 4,
  "cells": [
    {
      "cell_type": "code",
      "source": "import pandas as pd\nimport numpy as np\nfrom sklearn.feature_extraction.text import CountVectorizer\nfrom sklearn.metrics.pairwise import cosine_similarity\nimport sqlite3\n\n# Connect to the SQL database\nconn = sqlite3.connect('recipes.db')\n\n# Load the recipes data from the SQL database into a pandas DataFrame\nrecipes_df = pd.read_sql_query('SELECT * FROM recipes', conn)\n\n# Preprocess the data and combine relevant attributes into a single \"recipe_features\" column\nfeatures = ['cuisine', 'ingredients', 'difficulty']\nrecipes_df['recipe_features'] = recipes_df[features].apply(\n    lambda x: ' '.join(x.dropna().astype(str)), axis=1)\n\n# Convert the recipe features into a matrix of token counts using CountVectorizer\ncount_vectorizer = CountVectorizer()\ncount_matrix = count_vectorizer.fit_transform(recipes_df['recipe_features'])\n\n# Calculate the cosine similarity between recipes based on their features\ncosine_sim = cosine_similarity(count_matrix, count_matrix)\n\n# Function to get recipe recommendations based on user preferences\ndef get_recommendations(recipe_title, cosine_sim=cosine_sim):\n    idx = recipes_df[recipes_df['title'] == recipe_title].index[0]\n    sim_scores = list(enumerate(cosine_sim[idx]))\n    sim_scores = sorted(sim_scores, key=lambda x: x[1], reverse=True)\n    sim_scores = sim_scores[1:6]  # Get top 5 similar recipes\n    recipe_indices = [i[0] for i in sim_scores]\n    return recipes_df['title'].iloc[recipe_indices]\n\n# Example usage:\nuser_recipe_preference = 'Spicy Chicken Curry'\nrecommended_recipes = get_recommendations(user_recipe_preference)\n\nprint(f\"Recommended recipes for '{user_recipe_preference}':\")\nfor recipe_title in recommended_recipes:\n    print(recipe_title)\n",
      "metadata": {
        "editable": false,
        "tags": [],
        "trusted": true
      },
      "execution_count": null,
      "outputs": []
    }
  ]
}